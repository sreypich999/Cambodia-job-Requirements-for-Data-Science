import numpy as np
import pandas as pd
import matplotlib.pyplot as plt
import seaborn as sns
import plotly.express as px
import plotly.graph_objects as go
from sklearn.preprocessing import LabelEncoder

import warnings
warnings.filterwarnings('ignore')

# !pip install country_converter
import country_converter as coco

from plotly.offline import init_notebook_mode
init_notebook_mode(connected=True)
